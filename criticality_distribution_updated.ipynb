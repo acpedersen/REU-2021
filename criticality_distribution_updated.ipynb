{
 "cells": [
  {
   "cell_type": "code",
   "execution_count": 1,
   "metadata": {},
   "outputs": [],
   "source": [
    "import pandas as pd\n",
    "import pickle"
   ]
  },
  {
   "cell_type": "code",
   "execution_count": 8,
   "metadata": {},
   "outputs": [],
   "source": [
    "infile = open('low','rb')\n",
    "low = pickle.load(infile)\n",
    "infile.close()\n",
    "\n",
    "infile = open('medium','rb')\n",
    "medium = pickle.load(infile)\n",
    "infile.close()\n",
    "\n",
    "infile = open('high','rb')\n",
    "high = pickle.load(infile)\n",
    "infile.close()\n",
    "\n",
    "infile = open('critical','rb')\n",
    "critical = pickle.load(infile)\n",
    "infile.close()"
   ]
  },
  {
   "cell_type": "code",
   "execution_count": 28,
   "metadata": {},
   "outputs": [],
   "source": [
    "import random\n",
    "from numpy import dot\n",
    "from numpy.linalg import norm\n",
    "\n",
    "dist_name = []\n",
    "\n",
    "\n",
    "def critical_dist(lst1, lst2, dist_name):\n",
    "    for i in range(1000): #make this larger when done\n",
    "        grp1 = random.choice(lst1)\n",
    "        grp2 = random.choice(lst2)\n",
    "        cos_sim = dot(grp1, grp2)/(norm(grp1)*norm(grp2))\n",
    "        dist_name.append(cos_sim)\n",
    "    return dist_name"
   ]
  },
  {
   "cell_type": "code",
   "execution_count": 29,
   "metadata": {
    "scrolled": true
   },
   "outputs": [],
   "source": [
    "ch = []\n",
    "ch_dist = critical_dist(critical, high, ch)\n",
    "\n",
    "lm = []\n",
    "lm_dist = critical_dist(low, medium, lm)\n",
    "\n",
    "cl = []\n",
    "cl_dist = critical_dist(critical, low, cl)"
   ]
  },
  {
   "cell_type": "code",
   "execution_count": 30,
   "metadata": {},
   "outputs": [
    {
     "name": "stdout",
     "output_type": "stream",
     "text": [
      "[0.020229042238803674, 0.27380505361742424, 0.10206360978039773, 0.08285413379974783, 0.2506545270493774, 0.07662827201312011, 0.05156402434917731, 0.18043632064832457, 0.2528616886121255, 0.2910583605069266]\n"
     ]
    }
   ],
   "source": [
    "print(cl_dist[:10])"
   ]
  },
  {
   "cell_type": "code",
   "execution_count": 31,
   "metadata": {},
   "outputs": [
    {
     "data": {
      "text/plain": [
       "<seaborn.axisgrid.FacetGrid at 0x7f3074ca78d0>"
      ]
     },
     "execution_count": 31,
     "metadata": {},
     "output_type": "execute_result"
    },
    {
     "data": {
      "image/png": "[encoded data removed]",
      "text/plain": [
       "<Figure size 360x360 with 1 Axes>"
      ]
     },
     "metadata": {
      "needs_background": "light"
     },
     "output_type": "display_data"
    },
    {
     "data": {
      "image/png": "[encoded data removed]",
      "text/plain": [
       "<Figure size 360x360 with 1 Axes>"
      ]
     },
     "metadata": {
      "needs_background": "light"
     },
     "output_type": "display_data"
    },
    {
     "data": {
      "image/png": "[encoded data removed]",
      "text/plain": [
       "<Figure size 360x360 with 1 Axes>"
      ]
     },
     "metadata": {
      "needs_background": "light"
     },
     "output_type": "display_data"
    }
   ],
   "source": [
    "import seaborn as sns\n",
    "\n",
    "sns.displot(ch_dist, bins=20)\n",
    "sns.displot(lm_dist, bins=20)\n",
    "sns.displot(cl_dist, bins=20)"
   ]
  },
  {
   "cell_type": "code",
   "execution_count": 5,
   "metadata": {},
   "outputs": [
    {
     "data": {
      "text/plain": [
       "'0.11.1'"
      ]
     },
     "execution_count": 5,
     "metadata": {},
     "output_type": "execute_result"
    }
   ],
   "source": [
    "sns.__version__"
   ]
  },
  {
   "cell_type": "code",
   "execution_count": null,
   "metadata": {},
   "outputs": [],
   "source": []
  }
 ],
 "metadata": {
  "kernelspec": {
   "display_name": "Python 3",
   "language": "python",
   "name": "python3"
  },
  "language_info": {
   "codemirror_mode": {
    "name": "ipython",
    "version": 3
   },
   "file_extension": ".py",
   "mimetype": "text/x-python",
   "name": "python",
   "nbconvert_exporter": "python",
   "pygments_lexer": "ipython3",
   "version": "3.7.10"
  }
 },
 "nbformat": 4,
 "nbformat_minor": 4
}

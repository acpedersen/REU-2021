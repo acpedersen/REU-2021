{
 "cells": [
  {
   "cell_type": "code",
   "execution_count": null,
   "metadata": {},
   "outputs": [],
   "source": [
    "import pandas as pd\n",
    "from sklearn import datasets\n",
    "from sklearn.ensemble import RandomForestClassifier\n",
    "from sklearn.feature_extraction.text import CountVectorizer, TfidfTransformer, TfidfVectorizer\n",
    "from sklearn.metrics import roc_auc_score, roc_curve, cohen_kappa_score, precision_score, recall_score, \\\n",
    "    precision_recall_curve\n",
    "\n",
    "from sklearn.pipeline import make_pipeline, Pipeline\n",
    "from sklearn.linear_model import SGDClassifier\n",
    "import matplotlib.pyplot as plt\n",
    "from sklearn.metrics import f1_score\n",
    "import numpy as np\n",
    "from sklearn.preprocessing import StandardScaler\n",
    "from sklearn.semi_supervised import LabelSpreading, LabelPropagation\n",
    "from sklearn.multioutput import MultiOutputClassifier\n",
    "from sklearn.base import clone\n",
    "from tqdm import tqdm\n",
    "\n",
    "import os\n",
    "from gensim.models import KeyedVectors\n",
    "from gensim.downloader import base_dir\n",
    "\n",
    "import random"
   ]
  },
  {
   "cell_type": "code",
   "execution_count": null,
   "metadata": {},
   "outputs": [],
   "source": [
    "#Dataframe  generated in analye-data.ipynb\n",
    "df = pd.read_json(\"./Trec_data/Features_Labeled.json\", orient='records',lines=True)\n",
    "df"
   ]
  },
  {
   "cell_type": "markdown",
   "metadata": {},
   "source": [
    "# **`Generate Heldout Events`**"
   ]
  },
  {
   "cell_type": "code",
   "execution_count": null,
   "metadata": {},
   "outputs": [],
   "source": [
    "fullEventTypes = df['eventType'].unique()\n",
    "eventTypes = []\n",
    "for event in fullEventTypes:\n",
    "    events = df.loc[df['eventType' == event]][eventID].unique()\n",
    "    if events.size > 1:\n",
    "        eventTypes.append(event)\n",
    "print(eventTypes)"
   ]
  },
  {
   "cell_type": "code",
   "execution_count": null,
   "metadata": {
    "scrolled": false
   },
   "outputs": [],
   "source": [
    "heldout_events = {}\n",
    "\n",
    "#Choose heldout event and saves in the heldout_events dataframe\n",
    "for event in eventTypes:\n",
    "    crises = df.loc[df['eventType']==event]['eventID'].unique()\n",
    "    heldout_events[event]=[crises[random.choice(np.arange(crises.size))]]\n",
    "\n",
    "heldout_events.to_json('./Trec_data/heldout_events.json')"
   ]
  },
  {
   "cell_type": "code",
   "execution_count": null,
   "metadata": {
    "scrolled": false
   },
   "outputs": [],
   "source": [
    "#Simple read to keep the index by events\n",
    "heldout_events = pd.read_json('./Trec_data/heldout_events.json')\n",
    "heldout_events"
   ]
  },
  {
   "cell_type": "markdown",
   "metadata": {},
   "source": [
    "# **`Model Related Methods`**"
   ]
  },
  {
   "cell_type": "code",
   "execution_count": null,
   "metadata": {},
   "outputs": [],
   "source": [
    "def train_data(data, column, heldout_ids):\n",
    "    training = data.loc[~data[column].isin(heldout_ids)]\n",
    "    \n",
    "    return training\n",
    "\n",
    "def test_data(data, column, heldout_ids):\n",
    "    test = data.loc[data[column].isin(heldout_ids)]\n",
    "    \n",
    "    return test"
   ]
  },
  {
   "cell_type": "code",
   "execution_count": null,
   "metadata": {},
   "outputs": [],
   "source": [
    "def generate_model(data, features, target, modelType):\n",
    "    \n",
    "    model = clone(modelType)\n",
    "    model.fit(data[features], data[target])\n",
    "    \n",
    "    return model"
   ]
  },
  {
   "cell_type": "code",
   "execution_count": null,
   "metadata": {
    "scrolled": true
   },
   "outputs": [],
   "source": [
    "def generate_model_by_events(data, features, target, modelType):\n",
    "    modelList = {}\n",
    "    for event in tqdm(eventTypes):\n",
    "        #Create training and test dataframe\n",
    "        eventDF = df.loc[df['eventType']==event]\n",
    "        \n",
    "        training = train_data(eventDF, 'eventID', heldout_events[event])\n",
    "        \n",
    "        #generate event specific model\n",
    "        model = generate_model(training, features, target, modelType)\n",
    "        \n",
    "        #Add model to list\n",
    "        modelList[event] = model\n",
    "        \n",
    "        #print('')\n",
    "    return modelList"
   ]
  },
  {
   "cell_type": "markdown",
   "metadata": {},
   "source": [
    "# **`Generate Generic Variables`**"
   ]
  },
  {
   "cell_type": "code",
   "execution_count": null,
   "metadata": {},
   "outputs": [],
   "source": [
    "features = [\"num_chars\", \"num_chars_total\", \n",
    "            \"num_terms\", \"num_words\", \"num_unique_words\", \"vader neg\", \"vader pos\",\n",
    "            \"vader neu\", \"vader compound\", \n",
    "            \"num_hashtags\", \"num_mentions\", \n",
    "            \"num_urls\", \n",
    "            \"is_retweet\", \"num_media\",\n",
    "            \"is_verified\", \n",
    "            \"caps_ratio\"]\n",
    "\n",
    "rf_params = {\n",
    "    'random_state': 1337,\n",
    "    'class_weight': 'balanced',\n",
    "    'n_estimators': 128, \n",
    "    'n_jobs': -1,\n",
    "    'max_depth': 50,\n",
    "    'max_features': 14,\n",
    "    'min_samples_leaf': 33,\n",
    "    'min_samples_split': 96,\n",
    "}\n",
    "\n",
    "#Training data withholding all heldout events for general models\n",
    "generalTraining = train_data(df, 'eventID', list(heldout_events.values())) #Check this\n",
    "print(generalTraining.shape)"
   ]
  },
  {
   "cell_type": "markdown",
   "metadata": {},
   "source": [
    "# **`Generate postPriority Models`**"
   ]
  },
  {
   "cell_type": "code",
   "execution_count": null,
   "metadata": {},
   "outputs": [],
   "source": [
    "prioLabel = 'postPriority'\n",
    "prioModel = RandomForestClassifier(**modelParameters)\n",
    "\n",
    "#generate general model\n",
    "genPrioModel = generate_model(generalTraining, features, prioLabel, prioModel)\n",
    "\n",
    "#generate event specific models\n",
    "specPrioModels = generate_model_by_events(df, features, prioLabel, prioModel)"
   ]
  },
  {
   "cell_type": "markdown",
   "metadata": {},
   "source": [
    "# **`Generate postCategories Models`**"
   ]
  },
  {
   "cell_type": "code",
   "execution_count": null,
   "metadata": {},
   "outputs": [],
   "source": [
    "catModel = MultiOutputClassifier(RandomForestClassifier(**modelParameters))\n",
    "\n",
    "#generate general model\n",
    "catLabel = ['postCategories']\n",
    "genCatModel =  generate_model(generalTraining, features, catLabel, catModel)\n",
    "\n",
    "#generate event specific models\n",
    "specCatModels = generate_model_by_events(df, features, catLabel, catModel)"
   ]
  },
  {
   "cell_type": "code",
   "execution_count": null,
   "metadata": {},
   "outputs": [],
   "source": [
    "def save_model(model, filename):\n",
    "    pickle.dump(model, open(filename, 'wb'))\n",
    "    \n",
    "def load_model(filename):\n",
    "    model = pickle.load(open(filename, 'rb'))\n",
    "    return model"
   ]
  },
  {
   "cell_type": "code",
   "execution_count": null,
   "metadata": {},
   "outputs": [],
   "source": [
    "#Save postPriority models\n",
    "baseFilename = 'PrioModel.pkl'\n",
    "save_model(genPrioModel, 'gen' + baseFilename)\n",
    "\n",
    "for event in eventTypes:\n",
    "    save_model(specPrioModels[event], event + baseFilename)"
   ]
  },
  {
   "cell_type": "code",
   "execution_count": null,
   "metadata": {},
   "outputs": [],
   "source": [
    "#Save postCategories models\n",
    "baseFilename = 'CatModel.pkl'\n",
    "save_model(genCatModel, 'gen' + baseFilename)\n",
    "\n",
    "for event in eventTypes:\n",
    "    save_model(specCatModels[event], event + baseFilename)"
   ]
  },
  {
   "cell_type": "markdown",
   "metadata": {},
   "source": [
    "# **`Test All Models`**"
   ]
  },
  {
   "cell_type": "code",
   "execution_count": null,
   "metadata": {},
   "outputs": [],
   "source": [
    "#Load All Models\n",
    "genPrioModel\n",
    "specPrioModels\n",
    "genCatModel\n",
    "specCatModels"
   ]
  },
  {
   "cell_type": "code",
   "execution_count": null,
   "metadata": {},
   "outputs": [],
   "source": [
    "def test_prio_model(data, features, target, model):\n",
    "    X_test = data[features]\n",
    "    y_test = data[target]\n",
    "    y_infer_local = model.predict(X_test)\n",
    "    local_f1 = f1_score(y_test, y_infer_local, average=\"weighted\")\n",
    "    local_score = model.score(X_test, y_test)\n",
    "    \n",
    "    #print(\"\\tAccuracy:\", local_score)\n",
    "    #print(\"\\tF1:\", local_f1)\n",
    "    return [local_score, local_f1]"
   ]
  },
  {
   "cell_type": "code",
   "execution_count": null,
   "metadata": {},
   "outputs": [],
   "source": [
    "#Test postPriority models\n",
    "prioDF = pd.DataFrame(columns=['Event', 'genAccuracy', 'genF1', 'specAccuracy', 'specF1'])\n",
    "for event in eventTypes:\n",
    "    eventDf = df.loc[df['eventType']==event]\n",
    "    testDf = test_data(eventDf, 'eventID', [heldout_events[event]])\n",
    "    genScores = test_prio_model(testDf, features, prioLabel, genPrioModel)\n",
    "    specScores = test_prio_model(testDf, features, specPrioModels[event], genPrioModel)\n",
    "    prioDF = prioDF.append({'Event':event, 'genAccuracy':genScores[0], 'genF1':genScores[1],\n",
    "               'specAccuracy':specScores[0], 'specF1':specScores[1]}, ignore_index=True)\n",
    "prioDF"
   ]
  },
  {
   "cell_type": "code",
   "execution_count": null,
   "metadata": {},
   "outputs": [],
   "source": [
    "def test_cat_model(data, features, target, model):\n",
    "    X_test = data[features]\n",
    "    y_test = data[target]\n",
    "    y_infer_local = model.predict(X_test)\n",
    "    local_f1 = f1_score(y_test, y_infer_local, average=\"weighted\")\n",
    "    local_score = model.score(X_test, y_test)\n",
    "    \n",
    "    #print(\"\\tAccuracy:\", local_score)\n",
    "    #print(\"\\tF1:\", local_f1)\n",
    "    return [local_score, local_f1]"
   ]
  },
  {
   "cell_type": "code",
   "execution_count": null,
   "metadata": {},
   "outputs": [],
   "source": [
    "#Test postCategories models\n",
    "catDF = pd.DataFrame(columns=['Event', 'genAccuracy', 'genF1', 'specAccuracy', 'specF1'])\n",
    "for event in eventTypes:\n",
    "    eventDf = df.loc[df['eventType']==event]\n",
    "    testDf = test_data(eventDf, 'eventID', [heldout_events[event]])\n",
    "    genScores = test_cat_model(testDf, features, catLabel, genCatModel)\n",
    "    specScores = test_cat_model(testDf, features, catLabel, specCatModels[event])\n",
    "    catDF = catDF.append({'Event':event, 'genAccuracy':genScores[0], 'genF1':genScores[1],\n",
    "               'specAccuracy':specScores[0], 'specF1':specScores[1]}, ignore_index=True)\n",
    "catDF"
   ]
  }
 ],
 "metadata": {
  "kernelspec": {
   "display_name": "Python 3",
   "language": "python",
   "name": "python3"
  },
  "language_info": {
   "codemirror_mode": {
    "name": "ipython",
    "version": 3
   },
   "file_extension": ".py",
   "mimetype": "text/x-python",
   "name": "python",
   "nbconvert_exporter": "python",
   "pygments_lexer": "ipython3",
   "version": "3.8.1"
  }
 },
 "nbformat": 4,
 "nbformat_minor": 4
}
